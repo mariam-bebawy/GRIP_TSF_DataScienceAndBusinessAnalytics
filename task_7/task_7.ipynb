{
 "cells": [
  {
   "cell_type": "markdown",
   "metadata": {},
   "source": [
    "# Name : *Mariam Bebawy*  \n",
    "## Track : *Data Science & Business Analytics*  "
   ]
  },
  {
   "cell_type": "markdown",
   "metadata": {},
   "source": [
    "### Task 7 : *Stock Market Prediction Using Numerical and Textual Analysis*  \n",
    "create a hybrid model for stock price/performance prediction using numerical analysis of historical stock prices, and sentimental analysis of news headlines  \n",
    "stock to analyze and predict - SENSEX (S&P BSE SENSEX)"
   ]
  },
  {
   "cell_type": "code",
   "execution_count": 1,
   "metadata": {},
   "outputs": [],
   "source": [
    "import os\n",
    "import numpy as np\n",
    "import pandas as pd\n",
    "import seaborn as sns\n",
    "import matplotlib.pyplot as plt"
   ]
  },
  {
   "cell_type": "code",
   "execution_count": 2,
   "metadata": {},
   "outputs": [
    {
     "name": "stdout",
     "output_type": "stream",
     "text": [
      "(3650970, 3)\n"
     ]
    },
    {
     "data": {
      "text/html": [
       "<div>\n",
       "<style scoped>\n",
       "    .dataframe tbody tr th:only-of-type {\n",
       "        vertical-align: middle;\n",
       "    }\n",
       "\n",
       "    .dataframe tbody tr th {\n",
       "        vertical-align: top;\n",
       "    }\n",
       "\n",
       "    .dataframe thead th {\n",
       "        text-align: right;\n",
       "    }\n",
       "</style>\n",
       "<table border=\"1\" class=\"dataframe\">\n",
       "  <thead>\n",
       "    <tr style=\"text-align: right;\">\n",
       "      <th></th>\n",
       "      <th>publish_date</th>\n",
       "      <th>headline_category</th>\n",
       "      <th>headline_text</th>\n",
       "    </tr>\n",
       "  </thead>\n",
       "  <tbody>\n",
       "    <tr>\n",
       "      <th>0</th>\n",
       "      <td>20010102</td>\n",
       "      <td>unknown</td>\n",
       "      <td>Status quo will not be disturbed at Ayodhya; s...</td>\n",
       "    </tr>\n",
       "    <tr>\n",
       "      <th>1</th>\n",
       "      <td>20010102</td>\n",
       "      <td>unknown</td>\n",
       "      <td>Fissures in Hurriyat over Pak visit</td>\n",
       "    </tr>\n",
       "    <tr>\n",
       "      <th>2</th>\n",
       "      <td>20010102</td>\n",
       "      <td>unknown</td>\n",
       "      <td>America's unwanted heading for India?</td>\n",
       "    </tr>\n",
       "    <tr>\n",
       "      <th>3</th>\n",
       "      <td>20010102</td>\n",
       "      <td>unknown</td>\n",
       "      <td>For bigwigs; it is destination Goa</td>\n",
       "    </tr>\n",
       "    <tr>\n",
       "      <th>4</th>\n",
       "      <td>20010102</td>\n",
       "      <td>unknown</td>\n",
       "      <td>Extra buses to clear tourist traffic</td>\n",
       "    </tr>\n",
       "  </tbody>\n",
       "</table>\n",
       "</div>"
      ],
      "text/plain": [
       "   publish_date headline_category  \\\n",
       "0      20010102           unknown   \n",
       "1      20010102           unknown   \n",
       "2      20010102           unknown   \n",
       "3      20010102           unknown   \n",
       "4      20010102           unknown   \n",
       "\n",
       "                                       headline_text  \n",
       "0  Status quo will not be disturbed at Ayodhya; s...  \n",
       "1                Fissures in Hurriyat over Pak visit  \n",
       "2              America's unwanted heading for India?  \n",
       "3                 For bigwigs; it is destination Goa  \n",
       "4               Extra buses to clear tourist traffic  "
      ]
     },
     "execution_count": 2,
     "metadata": {},
     "output_type": "execute_result"
    }
   ],
   "source": [
    "headlines = pd.read_csv('./india-news-headlines.csv')\n",
    "print(headlines.shape)\n",
    "headlines.head()"
   ]
  },
  {
   "cell_type": "code",
   "execution_count": 3,
   "metadata": {},
   "outputs": [
    {
     "data": {
      "text/html": [
       "<div>\n",
       "<style scoped>\n",
       "    .dataframe tbody tr th:only-of-type {\n",
       "        vertical-align: middle;\n",
       "    }\n",
       "\n",
       "    .dataframe tbody tr th {\n",
       "        vertical-align: top;\n",
       "    }\n",
       "\n",
       "    .dataframe thead th {\n",
       "        text-align: right;\n",
       "    }\n",
       "</style>\n",
       "<table border=\"1\" class=\"dataframe\">\n",
       "  <thead>\n",
       "    <tr style=\"text-align: right;\">\n",
       "      <th></th>\n",
       "      <th>date</th>\n",
       "      <th>category</th>\n",
       "      <th>text</th>\n",
       "    </tr>\n",
       "  </thead>\n",
       "  <tbody>\n",
       "    <tr>\n",
       "      <th>0</th>\n",
       "      <td>2001-01-02</td>\n",
       "      <td>unknown</td>\n",
       "      <td>status quo will not be disturbed at ayodhya; s...</td>\n",
       "    </tr>\n",
       "    <tr>\n",
       "      <th>1</th>\n",
       "      <td>2001-01-02</td>\n",
       "      <td>unknown</td>\n",
       "      <td>fissures in hurriyat over pak visit</td>\n",
       "    </tr>\n",
       "    <tr>\n",
       "      <th>2</th>\n",
       "      <td>2001-01-02</td>\n",
       "      <td>unknown</td>\n",
       "      <td>america's unwanted heading for india?</td>\n",
       "    </tr>\n",
       "    <tr>\n",
       "      <th>3</th>\n",
       "      <td>2001-01-02</td>\n",
       "      <td>unknown</td>\n",
       "      <td>for bigwigs; it is destination goa</td>\n",
       "    </tr>\n",
       "    <tr>\n",
       "      <th>4</th>\n",
       "      <td>2001-01-02</td>\n",
       "      <td>unknown</td>\n",
       "      <td>extra buses to clear tourist traffic</td>\n",
       "    </tr>\n",
       "  </tbody>\n",
       "</table>\n",
       "</div>"
      ],
      "text/plain": [
       "        date category                                               text\n",
       "0 2001-01-02  unknown  status quo will not be disturbed at ayodhya; s...\n",
       "1 2001-01-02  unknown                fissures in hurriyat over pak visit\n",
       "2 2001-01-02  unknown              america's unwanted heading for india?\n",
       "3 2001-01-02  unknown                 for bigwigs; it is destination goa\n",
       "4 2001-01-02  unknown               extra buses to clear tourist traffic"
      ]
     },
     "execution_count": 3,
     "metadata": {},
     "output_type": "execute_result"
    }
   ],
   "source": [
    "headlines.columns = ['date', 'category', 'text']\n",
    "headlines['date'] = pd.to_datetime(headlines['date'],format='%Y%m%d')\n",
    "headlines['text'] = headlines['text'].str.lower()\n",
    "headlines.head()"
   ]
  },
  {
   "cell_type": "code",
   "execution_count": 4,
   "metadata": {},
   "outputs": [
    {
     "name": "stdout",
     "output_type": "stream",
     "text": [
      "date        0\n",
      "category    0\n",
      "text        0\n",
      "dtype: int64 \n",
      "\n",
      "<class 'pandas.core.frame.DataFrame'>\n",
      "RangeIndex: 3650970 entries, 0 to 3650969\n",
      "Data columns (total 3 columns):\n",
      " #   Column    Dtype         \n",
      "---  ------    -----         \n",
      " 0   date      datetime64[ns]\n",
      " 1   category  object        \n",
      " 2   text      object        \n",
      "dtypes: datetime64[ns](1), object(2)\n",
      "memory usage: 83.6+ MB\n"
     ]
    }
   ],
   "source": [
    "print(headlines.isnull().sum(), '\\n')\n",
    "headlines.info()"
   ]
  },
  {
   "cell_type": "code",
   "execution_count": 5,
   "metadata": {},
   "outputs": [
    {
     "name": "stdout",
     "output_type": "stream",
     "text": [
      "1041\n"
     ]
    },
    {
     "data": {
      "text/plain": [
       "array(['unknown', 'entertainment.hindi.bollywood', 'india', ...,\n",
       "       'sports.football.euro-2021', 'business.markets.ipo',\n",
       "       'sports.tokyo-olympics.india-in-tokyo'], dtype=object)"
      ]
     },
     "execution_count": 5,
     "metadata": {},
     "output_type": "execute_result"
    }
   ],
   "source": [
    "hl_categories = headlines['category'].unique()\n",
    "print(len(hl_categories))\n",
    "hl_categories"
   ]
  },
  {
   "cell_type": "code",
   "execution_count": 6,
   "metadata": {},
   "outputs": [
    {
     "name": "stdout",
     "output_type": "stream",
     "text": [
      "(1231, 6)\n"
     ]
    },
    {
     "data": {
      "text/html": [
       "<div>\n",
       "<style scoped>\n",
       "    .dataframe tbody tr th:only-of-type {\n",
       "        vertical-align: middle;\n",
       "    }\n",
       "\n",
       "    .dataframe tbody tr th {\n",
       "        vertical-align: top;\n",
       "    }\n",
       "\n",
       "    .dataframe thead th {\n",
       "        text-align: right;\n",
       "    }\n",
       "</style>\n",
       "<table border=\"1\" class=\"dataframe\">\n",
       "  <thead>\n",
       "    <tr style=\"text-align: right;\">\n",
       "      <th></th>\n",
       "      <th>High</th>\n",
       "      <th>Low</th>\n",
       "      <th>Open</th>\n",
       "      <th>Close</th>\n",
       "      <th>Volume</th>\n",
       "      <th>Adj Close</th>\n",
       "    </tr>\n",
       "    <tr>\n",
       "      <th>Date</th>\n",
       "      <th></th>\n",
       "      <th></th>\n",
       "      <th></th>\n",
       "      <th></th>\n",
       "      <th></th>\n",
       "      <th></th>\n",
       "    </tr>\n",
       "  </thead>\n",
       "  <tbody>\n",
       "    <tr>\n",
       "      <th>2017-07-19</th>\n",
       "      <td>31978.890625</td>\n",
       "      <td>31793.720703</td>\n",
       "      <td>31882.800781</td>\n",
       "      <td>31955.349609</td>\n",
       "      <td>11300.0</td>\n",
       "      <td>31955.349609</td>\n",
       "    </tr>\n",
       "    <tr>\n",
       "      <th>2017-07-20</th>\n",
       "      <td>32057.119141</td>\n",
       "      <td>31859.500000</td>\n",
       "      <td>32033.820312</td>\n",
       "      <td>31904.400391</td>\n",
       "      <td>11200.0</td>\n",
       "      <td>31904.400391</td>\n",
       "    </tr>\n",
       "    <tr>\n",
       "      <th>2017-07-21</th>\n",
       "      <td>32062.230469</td>\n",
       "      <td>31808.929688</td>\n",
       "      <td>32035.880859</td>\n",
       "      <td>32028.890625</td>\n",
       "      <td>18000.0</td>\n",
       "      <td>32028.890625</td>\n",
       "    </tr>\n",
       "    <tr>\n",
       "      <th>2017-07-24</th>\n",
       "      <td>32320.859375</td>\n",
       "      <td>32058.330078</td>\n",
       "      <td>32100.220703</td>\n",
       "      <td>32245.869141</td>\n",
       "      <td>11500.0</td>\n",
       "      <td>32245.869141</td>\n",
       "    </tr>\n",
       "    <tr>\n",
       "      <th>2017-07-25</th>\n",
       "      <td>32374.300781</td>\n",
       "      <td>32196.859375</td>\n",
       "      <td>32350.710938</td>\n",
       "      <td>32228.269531</td>\n",
       "      <td>14100.0</td>\n",
       "      <td>32228.269531</td>\n",
       "    </tr>\n",
       "  </tbody>\n",
       "</table>\n",
       "</div>"
      ],
      "text/plain": [
       "                    High           Low          Open         Close   Volume  \\\n",
       "Date                                                                          \n",
       "2017-07-19  31978.890625  31793.720703  31882.800781  31955.349609  11300.0   \n",
       "2017-07-20  32057.119141  31859.500000  32033.820312  31904.400391  11200.0   \n",
       "2017-07-21  32062.230469  31808.929688  32035.880859  32028.890625  18000.0   \n",
       "2017-07-24  32320.859375  32058.330078  32100.220703  32245.869141  11500.0   \n",
       "2017-07-25  32374.300781  32196.859375  32350.710938  32228.269531  14100.0   \n",
       "\n",
       "               Adj Close  \n",
       "Date                      \n",
       "2017-07-19  31955.349609  \n",
       "2017-07-20  31904.400391  \n",
       "2017-07-21  32028.890625  \n",
       "2017-07-24  32245.869141  \n",
       "2017-07-25  32228.269531  "
      ]
     },
     "execution_count": 6,
     "metadata": {},
     "output_type": "execute_result"
    }
   ],
   "source": [
    "from pandas_datareader import data\n",
    "\n",
    "df = data.DataReader('^BSESN', 'yahoo')\n",
    "print(df.shape)\n",
    "df.head()"
   ]
  },
  {
   "cell_type": "code",
   "execution_count": 7,
   "metadata": {},
   "outputs": [
    {
     "name": "stdout",
     "output_type": "stream",
     "text": [
      "2017-07-19T00:00:00.000000000 2022-07-18T00:00:00.000000000\n",
      "2001-01-02 00:00:00 2022-03-31 00:00:00\n"
     ]
    }
   ],
   "source": [
    "mini_df = (df.index.min()).to_datetime64()\n",
    "maxi_df = (df.index.max()).to_datetime64()\n",
    "print(mini_df, maxi_df)\n",
    "mini_hl = headlines.date.min()\n",
    "maxi_hl = headlines.date.max()\n",
    "print(mini_hl, maxi_hl)"
   ]
  },
  {
   "cell_type": "code",
   "execution_count": 8,
   "metadata": {},
   "outputs": [],
   "source": [
    "hl_sub = headlines.loc[(headlines['date'] >= mini_df) & (headlines['date'] <= maxi_hl)]\n",
    "hl_sub.reset_index(inplace=True)\n",
    "df_sub = df.loc[(df.index >= mini_df) & (df.index <= maxi_hl)]"
   ]
  },
  {
   "cell_type": "code",
   "execution_count": 9,
   "metadata": {},
   "outputs": [
    {
     "data": {
      "text/html": [
       "<div>\n",
       "<style scoped>\n",
       "    .dataframe tbody tr th:only-of-type {\n",
       "        vertical-align: middle;\n",
       "    }\n",
       "\n",
       "    .dataframe tbody tr th {\n",
       "        vertical-align: top;\n",
       "    }\n",
       "\n",
       "    .dataframe thead th {\n",
       "        text-align: right;\n",
       "    }\n",
       "</style>\n",
       "<table border=\"1\" class=\"dataframe\">\n",
       "  <thead>\n",
       "    <tr style=\"text-align: right;\">\n",
       "      <th></th>\n",
       "      <th>index</th>\n",
       "      <th>date</th>\n",
       "      <th>category</th>\n",
       "      <th>text</th>\n",
       "    </tr>\n",
       "  </thead>\n",
       "  <tbody>\n",
       "    <tr>\n",
       "      <th>0</th>\n",
       "      <td>2689017</td>\n",
       "      <td>2017-07-19</td>\n",
       "      <td>city.puducherry</td>\n",
       "      <td>big names in india &amp; us inc root for an indepe...</td>\n",
       "    </tr>\n",
       "    <tr>\n",
       "      <th>1</th>\n",
       "      <td>2689018</td>\n",
       "      <td>2017-07-19</td>\n",
       "      <td>city.coimbatore</td>\n",
       "      <td>mrts or brts; confusion reigns</td>\n",
       "    </tr>\n",
       "    <tr>\n",
       "      <th>2</th>\n",
       "      <td>2689019</td>\n",
       "      <td>2017-07-19</td>\n",
       "      <td>entertainment.hindi.bollywood</td>\n",
       "      <td>india's youngest superhero has a nose for figh...</td>\n",
       "    </tr>\n",
       "    <tr>\n",
       "      <th>3</th>\n",
       "      <td>2689020</td>\n",
       "      <td>2017-07-19</td>\n",
       "      <td>entertainment.hindi.bollywood</td>\n",
       "      <td>meet the crazy; quirky &amp; colourful 'mubarakan'...</td>\n",
       "    </tr>\n",
       "    <tr>\n",
       "      <th>4</th>\n",
       "      <td>2689021</td>\n",
       "      <td>2017-07-19</td>\n",
       "      <td>city.delhi</td>\n",
       "      <td>the latest print in this year's kite fashion: ...</td>\n",
       "    </tr>\n",
       "    <tr>\n",
       "      <th>...</th>\n",
       "      <td>...</td>\n",
       "      <td>...</td>\n",
       "      <td>...</td>\n",
       "      <td>...</td>\n",
       "    </tr>\n",
       "    <tr>\n",
       "      <th>961948</th>\n",
       "      <td>3650965</td>\n",
       "      <td>2022-03-31</td>\n",
       "      <td>city.srinagar</td>\n",
       "      <td>j&amp;k sacks 2 cops; 3 other employees over terro...</td>\n",
       "    </tr>\n",
       "    <tr>\n",
       "      <th>961949</th>\n",
       "      <td>3650966</td>\n",
       "      <td>2022-03-31</td>\n",
       "      <td>entertainment.hindi.bollywood</td>\n",
       "      <td>ranbir kapoor says 'rishi kapoor enjoyed his a...</td>\n",
       "    </tr>\n",
       "    <tr>\n",
       "      <th>961950</th>\n",
       "      <td>3650967</td>\n",
       "      <td>2022-03-31</td>\n",
       "      <td>city.trichy</td>\n",
       "      <td>as covid-19 cases drop to nil in southern dist...</td>\n",
       "    </tr>\n",
       "    <tr>\n",
       "      <th>961951</th>\n",
       "      <td>3650968</td>\n",
       "      <td>2022-03-31</td>\n",
       "      <td>city.erode</td>\n",
       "      <td>tamil nadu sees marginal rise of covid cases w...</td>\n",
       "    </tr>\n",
       "    <tr>\n",
       "      <th>961952</th>\n",
       "      <td>3650969</td>\n",
       "      <td>2022-03-31</td>\n",
       "      <td>city.salem</td>\n",
       "      <td>tamil nadu sees marginal rise of covid cases w...</td>\n",
       "    </tr>\n",
       "  </tbody>\n",
       "</table>\n",
       "<p>961953 rows × 4 columns</p>\n",
       "</div>"
      ],
      "text/plain": [
       "          index       date                       category  \\\n",
       "0       2689017 2017-07-19                city.puducherry   \n",
       "1       2689018 2017-07-19                city.coimbatore   \n",
       "2       2689019 2017-07-19  entertainment.hindi.bollywood   \n",
       "3       2689020 2017-07-19  entertainment.hindi.bollywood   \n",
       "4       2689021 2017-07-19                     city.delhi   \n",
       "...         ...        ...                            ...   \n",
       "961948  3650965 2022-03-31                  city.srinagar   \n",
       "961949  3650966 2022-03-31  entertainment.hindi.bollywood   \n",
       "961950  3650967 2022-03-31                    city.trichy   \n",
       "961951  3650968 2022-03-31                     city.erode   \n",
       "961952  3650969 2022-03-31                     city.salem   \n",
       "\n",
       "                                                     text  \n",
       "0       big names in india & us inc root for an indepe...  \n",
       "1                          mrts or brts; confusion reigns  \n",
       "2       india's youngest superhero has a nose for figh...  \n",
       "3       meet the crazy; quirky & colourful 'mubarakan'...  \n",
       "4       the latest print in this year's kite fashion: ...  \n",
       "...                                                   ...  \n",
       "961948  j&k sacks 2 cops; 3 other employees over terro...  \n",
       "961949  ranbir kapoor says 'rishi kapoor enjoyed his a...  \n",
       "961950  as covid-19 cases drop to nil in southern dist...  \n",
       "961951  tamil nadu sees marginal rise of covid cases w...  \n",
       "961952  tamil nadu sees marginal rise of covid cases w...  \n",
       "\n",
       "[961953 rows x 4 columns]"
      ]
     },
     "execution_count": 9,
     "metadata": {},
     "output_type": "execute_result"
    }
   ],
   "source": [
    "hl_sub"
   ]
  },
  {
   "cell_type": "code",
   "execution_count": 10,
   "metadata": {},
   "outputs": [
    {
     "data": {
      "text/html": [
       "<div>\n",
       "<style scoped>\n",
       "    .dataframe tbody tr th:only-of-type {\n",
       "        vertical-align: middle;\n",
       "    }\n",
       "\n",
       "    .dataframe tbody tr th {\n",
       "        vertical-align: top;\n",
       "    }\n",
       "\n",
       "    .dataframe thead th {\n",
       "        text-align: right;\n",
       "    }\n",
       "</style>\n",
       "<table border=\"1\" class=\"dataframe\">\n",
       "  <thead>\n",
       "    <tr style=\"text-align: right;\">\n",
       "      <th></th>\n",
       "      <th>High</th>\n",
       "      <th>Low</th>\n",
       "      <th>Open</th>\n",
       "      <th>Close</th>\n",
       "      <th>Volume</th>\n",
       "      <th>Adj Close</th>\n",
       "    </tr>\n",
       "    <tr>\n",
       "      <th>Date</th>\n",
       "      <th></th>\n",
       "      <th></th>\n",
       "      <th></th>\n",
       "      <th></th>\n",
       "      <th></th>\n",
       "      <th></th>\n",
       "    </tr>\n",
       "  </thead>\n",
       "  <tbody>\n",
       "    <tr>\n",
       "      <th>2017-07-19</th>\n",
       "      <td>31978.890625</td>\n",
       "      <td>31793.720703</td>\n",
       "      <td>31882.800781</td>\n",
       "      <td>31955.349609</td>\n",
       "      <td>11300.0</td>\n",
       "      <td>31955.349609</td>\n",
       "    </tr>\n",
       "    <tr>\n",
       "      <th>2017-07-20</th>\n",
       "      <td>32057.119141</td>\n",
       "      <td>31859.500000</td>\n",
       "      <td>32033.820312</td>\n",
       "      <td>31904.400391</td>\n",
       "      <td>11200.0</td>\n",
       "      <td>31904.400391</td>\n",
       "    </tr>\n",
       "    <tr>\n",
       "      <th>2017-07-21</th>\n",
       "      <td>32062.230469</td>\n",
       "      <td>31808.929688</td>\n",
       "      <td>32035.880859</td>\n",
       "      <td>32028.890625</td>\n",
       "      <td>18000.0</td>\n",
       "      <td>32028.890625</td>\n",
       "    </tr>\n",
       "    <tr>\n",
       "      <th>2017-07-24</th>\n",
       "      <td>32320.859375</td>\n",
       "      <td>32058.330078</td>\n",
       "      <td>32100.220703</td>\n",
       "      <td>32245.869141</td>\n",
       "      <td>11500.0</td>\n",
       "      <td>32245.869141</td>\n",
       "    </tr>\n",
       "    <tr>\n",
       "      <th>2017-07-25</th>\n",
       "      <td>32374.300781</td>\n",
       "      <td>32196.859375</td>\n",
       "      <td>32350.710938</td>\n",
       "      <td>32228.269531</td>\n",
       "      <td>14100.0</td>\n",
       "      <td>32228.269531</td>\n",
       "    </tr>\n",
       "    <tr>\n",
       "      <th>...</th>\n",
       "      <td>...</td>\n",
       "      <td>...</td>\n",
       "      <td>...</td>\n",
       "      <td>...</td>\n",
       "      <td>...</td>\n",
       "      <td>...</td>\n",
       "    </tr>\n",
       "    <tr>\n",
       "      <th>2022-03-25</th>\n",
       "      <td>57845.371094</td>\n",
       "      <td>57100.238281</td>\n",
       "      <td>57801.718750</td>\n",
       "      <td>57362.199219</td>\n",
       "      <td>6900.0</td>\n",
       "      <td>57362.199219</td>\n",
       "    </tr>\n",
       "    <tr>\n",
       "      <th>2022-03-28</th>\n",
       "      <td>57638.339844</td>\n",
       "      <td>56825.089844</td>\n",
       "      <td>57472.718750</td>\n",
       "      <td>57593.488281</td>\n",
       "      <td>6300.0</td>\n",
       "      <td>57593.488281</td>\n",
       "    </tr>\n",
       "    <tr>\n",
       "      <th>2022-03-29</th>\n",
       "      <td>58001.531250</td>\n",
       "      <td>57639.351562</td>\n",
       "      <td>57814.761719</td>\n",
       "      <td>57943.648438</td>\n",
       "      <td>12100.0</td>\n",
       "      <td>57943.648438</td>\n",
       "    </tr>\n",
       "    <tr>\n",
       "      <th>2022-03-30</th>\n",
       "      <td>58727.781250</td>\n",
       "      <td>58176.000000</td>\n",
       "      <td>58362.851562</td>\n",
       "      <td>58683.988281</td>\n",
       "      <td>6300.0</td>\n",
       "      <td>58683.988281</td>\n",
       "    </tr>\n",
       "    <tr>\n",
       "      <th>2022-03-31</th>\n",
       "      <td>58890.921875</td>\n",
       "      <td>58485.789062</td>\n",
       "      <td>58779.710938</td>\n",
       "      <td>58568.511719</td>\n",
       "      <td>4400.0</td>\n",
       "      <td>58568.511719</td>\n",
       "    </tr>\n",
       "  </tbody>\n",
       "</table>\n",
       "<p>1157 rows × 6 columns</p>\n",
       "</div>"
      ],
      "text/plain": [
       "                    High           Low          Open         Close   Volume  \\\n",
       "Date                                                                          \n",
       "2017-07-19  31978.890625  31793.720703  31882.800781  31955.349609  11300.0   \n",
       "2017-07-20  32057.119141  31859.500000  32033.820312  31904.400391  11200.0   \n",
       "2017-07-21  32062.230469  31808.929688  32035.880859  32028.890625  18000.0   \n",
       "2017-07-24  32320.859375  32058.330078  32100.220703  32245.869141  11500.0   \n",
       "2017-07-25  32374.300781  32196.859375  32350.710938  32228.269531  14100.0   \n",
       "...                  ...           ...           ...           ...      ...   \n",
       "2022-03-25  57845.371094  57100.238281  57801.718750  57362.199219   6900.0   \n",
       "2022-03-28  57638.339844  56825.089844  57472.718750  57593.488281   6300.0   \n",
       "2022-03-29  58001.531250  57639.351562  57814.761719  57943.648438  12100.0   \n",
       "2022-03-30  58727.781250  58176.000000  58362.851562  58683.988281   6300.0   \n",
       "2022-03-31  58890.921875  58485.789062  58779.710938  58568.511719   4400.0   \n",
       "\n",
       "               Adj Close  \n",
       "Date                      \n",
       "2017-07-19  31955.349609  \n",
       "2017-07-20  31904.400391  \n",
       "2017-07-21  32028.890625  \n",
       "2017-07-24  32245.869141  \n",
       "2017-07-25  32228.269531  \n",
       "...                  ...  \n",
       "2022-03-25  57362.199219  \n",
       "2022-03-28  57593.488281  \n",
       "2022-03-29  57943.648438  \n",
       "2022-03-30  58683.988281  \n",
       "2022-03-31  58568.511719  \n",
       "\n",
       "[1157 rows x 6 columns]"
      ]
     },
     "execution_count": 10,
     "metadata": {},
     "output_type": "execute_result"
    }
   ],
   "source": [
    "df_sub"
   ]
  },
  {
   "cell_type": "code",
   "execution_count": 11,
   "metadata": {},
   "outputs": [
    {
     "name": "stdout",
     "output_type": "stream",
     "text": [
      "(1157, 6) \n",
      "\n",
      "<class 'pandas.core.frame.DataFrame'>\n",
      "DatetimeIndex: 1157 entries, 2017-07-19 to 2022-03-31\n",
      "Data columns (total 6 columns):\n",
      " #   Column     Non-Null Count  Dtype  \n",
      "---  ------     --------------  -----  \n",
      " 0   High       1157 non-null   float64\n",
      " 1   Low        1157 non-null   float64\n",
      " 2   Open       1157 non-null   float64\n",
      " 3   Close      1157 non-null   float64\n",
      " 4   Volume     1157 non-null   float64\n",
      " 5   Adj Close  1157 non-null   float64\n",
      "dtypes: float64(6)\n",
      "memory usage: 63.3 KB\n",
      "None\n"
     ]
    },
    {
     "data": {
      "text/html": [
       "<div>\n",
       "<style scoped>\n",
       "    .dataframe tbody tr th:only-of-type {\n",
       "        vertical-align: middle;\n",
       "    }\n",
       "\n",
       "    .dataframe tbody tr th {\n",
       "        vertical-align: top;\n",
       "    }\n",
       "\n",
       "    .dataframe thead th {\n",
       "        text-align: right;\n",
       "    }\n",
       "</style>\n",
       "<table border=\"1\" class=\"dataframe\">\n",
       "  <thead>\n",
       "    <tr style=\"text-align: right;\">\n",
       "      <th></th>\n",
       "      <th>High</th>\n",
       "      <th>Low</th>\n",
       "      <th>Open</th>\n",
       "      <th>Close</th>\n",
       "      <th>Volume</th>\n",
       "      <th>Adj Close</th>\n",
       "    </tr>\n",
       "  </thead>\n",
       "  <tbody>\n",
       "    <tr>\n",
       "      <th>count</th>\n",
       "      <td>1157.000000</td>\n",
       "      <td>1157.000000</td>\n",
       "      <td>1157.000000</td>\n",
       "      <td>1157.000000</td>\n",
       "      <td>1.157000e+03</td>\n",
       "      <td>1157.000000</td>\n",
       "    </tr>\n",
       "    <tr>\n",
       "      <th>mean</th>\n",
       "      <td>41658.243663</td>\n",
       "      <td>41142.145223</td>\n",
       "      <td>41453.768800</td>\n",
       "      <td>41400.150171</td>\n",
       "      <td>2.888394e+05</td>\n",
       "      <td>41400.150171</td>\n",
       "    </tr>\n",
       "    <tr>\n",
       "      <th>std</th>\n",
       "      <td>8808.820279</td>\n",
       "      <td>8728.890157</td>\n",
       "      <td>8780.872873</td>\n",
       "      <td>8780.231387</td>\n",
       "      <td>2.187918e+06</td>\n",
       "      <td>8780.231387</td>\n",
       "    </tr>\n",
       "    <tr>\n",
       "      <th>min</th>\n",
       "      <td>27462.869141</td>\n",
       "      <td>25638.900391</td>\n",
       "      <td>26499.810547</td>\n",
       "      <td>25981.240234</td>\n",
       "      <td>1.000000e+02</td>\n",
       "      <td>25981.240234</td>\n",
       "    </tr>\n",
       "    <tr>\n",
       "      <th>25%</th>\n",
       "      <td>35254.878906</td>\n",
       "      <td>34910.339844</td>\n",
       "      <td>35128.160156</td>\n",
       "      <td>35081.820312</td>\n",
       "      <td>9.800000e+03</td>\n",
       "      <td>35081.820312</td>\n",
       "    </tr>\n",
       "    <tr>\n",
       "      <th>50%</th>\n",
       "      <td>38513.691406</td>\n",
       "      <td>38066.128906</td>\n",
       "      <td>38348.390625</td>\n",
       "      <td>38276.628906</td>\n",
       "      <td>1.460000e+04</td>\n",
       "      <td>38276.628906</td>\n",
       "    </tr>\n",
       "    <tr>\n",
       "      <th>75%</th>\n",
       "      <td>48887.851562</td>\n",
       "      <td>48152.238281</td>\n",
       "      <td>48569.121094</td>\n",
       "      <td>48564.269531</td>\n",
       "      <td>2.060000e+04</td>\n",
       "      <td>48564.269531</td>\n",
       "    </tr>\n",
       "    <tr>\n",
       "      <th>max</th>\n",
       "      <td>62245.429688</td>\n",
       "      <td>61624.648438</td>\n",
       "      <td>62156.480469</td>\n",
       "      <td>61765.589844</td>\n",
       "      <td>3.181510e+07</td>\n",
       "      <td>61765.589844</td>\n",
       "    </tr>\n",
       "  </tbody>\n",
       "</table>\n",
       "</div>"
      ],
      "text/plain": [
       "               High           Low          Open         Close        Volume  \\\n",
       "count   1157.000000   1157.000000   1157.000000   1157.000000  1.157000e+03   \n",
       "mean   41658.243663  41142.145223  41453.768800  41400.150171  2.888394e+05   \n",
       "std     8808.820279   8728.890157   8780.872873   8780.231387  2.187918e+06   \n",
       "min    27462.869141  25638.900391  26499.810547  25981.240234  1.000000e+02   \n",
       "25%    35254.878906  34910.339844  35128.160156  35081.820312  9.800000e+03   \n",
       "50%    38513.691406  38066.128906  38348.390625  38276.628906  1.460000e+04   \n",
       "75%    48887.851562  48152.238281  48569.121094  48564.269531  2.060000e+04   \n",
       "max    62245.429688  61624.648438  62156.480469  61765.589844  3.181510e+07   \n",
       "\n",
       "          Adj Close  \n",
       "count   1157.000000  \n",
       "mean   41400.150171  \n",
       "std     8780.231387  \n",
       "min    25981.240234  \n",
       "25%    35081.820312  \n",
       "50%    38276.628906  \n",
       "75%    48564.269531  \n",
       "max    61765.589844  "
      ]
     },
     "execution_count": 11,
     "metadata": {},
     "output_type": "execute_result"
    }
   ],
   "source": [
    "print(df_sub.shape, '\\n')\n",
    "print(df_sub.info())\n",
    "df_sub.describe()"
   ]
  },
  {
   "cell_type": "code",
   "execution_count": 12,
   "metadata": {},
   "outputs": [
    {
     "data": {
      "image/png": "[encoded data removed]",
      "text/plain": [
       "<Figure size 1080x360 with 1 Axes>"
      ]
     },
     "metadata": {
      "needs_background": "light"
     },
     "output_type": "display_data"
    }
   ],
   "source": [
    "plt.figure(figsize=(15,5))\n",
    "plt.plot(df_sub['Close'])\n",
    "plt.grid(True)"
   ]
  },
  {
   "cell_type": "code",
   "execution_count": 13,
   "metadata": {},
   "outputs": [
    {
     "data": {
      "image/png": "[encoded data removed]",
      "text/plain": [
       "<Figure size 1080x360 with 1 Axes>"
      ]
     },
     "metadata": {
      "needs_background": "light"
     },
     "output_type": "display_data"
    }
   ],
   "source": [
    "plt.figure(figsize=(15,5))\n",
    "plt.plot(df['Close'])\n",
    "plt.grid(True)"
   ]
  },
  {
   "cell_type": "code",
   "execution_count": 14,
   "metadata": {},
   "outputs": [],
   "source": [
    "close_sub = df_sub['Close']"
   ]
  },
  {
   "cell_type": "code",
   "execution_count": 15,
   "metadata": {},
   "outputs": [
    {
     "data": {
      "image/png": "[encoded data removed]",
      "text/plain": [
       "<Figure size 1080x360 with 1 Axes>"
      ]
     },
     "metadata": {
      "needs_background": "light"
     },
     "output_type": "display_data"
    }
   ],
   "source": [
    "# examining rolling mean of stocks\n",
    "# window = 100 ----> mean of last 100 days\n",
    "m_avg = close_sub.rolling(window=100).mean()\n",
    "\n",
    "plt.figure(figsize=(15,5))\n",
    "plt.plot(close_sub, label='close')\n",
    "plt.plot(m_avg, label='mavg')\n",
    "plt.legend()\n",
    "plt.grid(True)"
   ]
  },
  {
   "cell_type": "code",
   "execution_count": 16,
   "metadata": {},
   "outputs": [],
   "source": [
    "# buy during downturn\n",
    "# sell during upturn"
   ]
  },
  {
   "cell_type": "code",
   "execution_count": 17,
   "metadata": {},
   "outputs": [
    {
     "data": {
      "image/png": "[encoded data removed]",
      "text/plain": [
       "<Figure size 1080x360 with 1 Axes>"
      ]
     },
     "metadata": {
      "needs_background": "light"
     },
     "output_type": "display_data"
    }
   ],
   "source": [
    "# examining return deviation to determine risk and return\n",
    "ret = close_sub / close_sub.shift(1) - 1\n",
    "\n",
    "plt.figure(figsize=(15,5))\n",
    "plt.plot(ret, label='return risk')\n",
    "plt.legend()\n",
    "plt.grid(True)"
   ]
  },
  {
   "cell_type": "code",
   "execution_count": 18,
   "metadata": {},
   "outputs": [],
   "source": [
    "# stock experiencecs more than 10% drop in 2020\n",
    "# relatively high risk"
   ]
  },
  {
   "cell_type": "code",
   "execution_count": 19,
   "metadata": {},
   "outputs": [],
   "source": [
    "# predicting stock prices using machine learning models\n",
    "# Linear Analysis / Quadratic Discriminant Analysis QDA / K Nearest Neighbour KNN\n",
    "\n",
    "# feature engineering\n",
    "# high low percentage / percentage change"
   ]
  },
  {
   "cell_type": "code",
   "execution_count": 20,
   "metadata": {},
   "outputs": [
    {
     "data": {
      "text/html": [
       "<div>\n",
       "<style scoped>\n",
       "    .dataframe tbody tr th:only-of-type {\n",
       "        vertical-align: middle;\n",
       "    }\n",
       "\n",
       "    .dataframe tbody tr th {\n",
       "        vertical-align: top;\n",
       "    }\n",
       "\n",
       "    .dataframe thead th {\n",
       "        text-align: right;\n",
       "    }\n",
       "</style>\n",
       "<table border=\"1\" class=\"dataframe\">\n",
       "  <thead>\n",
       "    <tr style=\"text-align: right;\">\n",
       "      <th></th>\n",
       "      <th>Adj Close</th>\n",
       "      <th>Volume</th>\n",
       "      <th>HL_PCT</th>\n",
       "      <th>PCT_change</th>\n",
       "    </tr>\n",
       "    <tr>\n",
       "      <th>Date</th>\n",
       "      <th></th>\n",
       "      <th></th>\n",
       "      <th></th>\n",
       "      <th></th>\n",
       "    </tr>\n",
       "  </thead>\n",
       "  <tbody>\n",
       "    <tr>\n",
       "      <th>2017-07-19</th>\n",
       "      <td>31955.349609</td>\n",
       "      <td>11300.0</td>\n",
       "      <td>0.579465</td>\n",
       "      <td>0.227548</td>\n",
       "    </tr>\n",
       "    <tr>\n",
       "      <th>2017-07-20</th>\n",
       "      <td>31904.400391</td>\n",
       "      <td>11200.0</td>\n",
       "      <td>0.619410</td>\n",
       "      <td>-0.404010</td>\n",
       "    </tr>\n",
       "    <tr>\n",
       "      <th>2017-07-21</th>\n",
       "      <td>32028.890625</td>\n",
       "      <td>18000.0</td>\n",
       "      <td>0.790851</td>\n",
       "      <td>-0.021820</td>\n",
       "    </tr>\n",
       "    <tr>\n",
       "      <th>2017-07-24</th>\n",
       "      <td>32245.869141</td>\n",
       "      <td>11500.0</td>\n",
       "      <td>0.814149</td>\n",
       "      <td>0.453730</td>\n",
       "    </tr>\n",
       "    <tr>\n",
       "      <th>2017-07-25</th>\n",
       "      <td>32228.269531</td>\n",
       "      <td>14100.0</td>\n",
       "      <td>0.550577</td>\n",
       "      <td>-0.378481</td>\n",
       "    </tr>\n",
       "  </tbody>\n",
       "</table>\n",
       "</div>"
      ],
      "text/plain": [
       "               Adj Close   Volume    HL_PCT  PCT_change\n",
       "Date                                                   \n",
       "2017-07-19  31955.349609  11300.0  0.579465    0.227548\n",
       "2017-07-20  31904.400391  11200.0  0.619410   -0.404010\n",
       "2017-07-21  32028.890625  18000.0  0.790851   -0.021820\n",
       "2017-07-24  32245.869141  11500.0  0.814149    0.453730\n",
       "2017-07-25  32228.269531  14100.0  0.550577   -0.378481"
      ]
     },
     "execution_count": 20,
     "metadata": {},
     "output_type": "execute_result"
    }
   ],
   "source": [
    "dfreg = df.loc[:,['Adj Close','Volume']]\n",
    "dfreg['HL_PCT'] = (df['High'] - df['Low']) / df['Close'] * 100.0\n",
    "dfreg['PCT_change'] = (df['Close'] - df['Open']) / df['Open'] * 100.0\n",
    "dfreg.head()"
   ]
  },
  {
   "cell_type": "code",
   "execution_count": 21,
   "metadata": {},
   "outputs": [],
   "source": [
    "# Pre-processing & Cross Validation\n",
    "# 1- Drop missing value\n",
    "# 2- Separating the label here, we want to predict the AdjClose\n",
    "# 3- Scale the X so that everyone can have the same distribution for linear regression\n",
    "# 4- Finally We want to find Data Series of late X and early X (train) for model generation and evaluation\n",
    "# 5- Separate label and identify it as y\n",
    "# 6- Separation of training and testing of model by cross validation train test split"
   ]
  },
  {
   "cell_type": "code",
   "execution_count": 23,
   "metadata": {},
   "outputs": [],
   "source": [
    "import math\n",
    "from sklearn import preprocessing\n",
    "from sklearn.model_selection import train_test_split"
   ]
  },
  {
   "cell_type": "code",
   "execution_count": 24,
   "metadata": {},
   "outputs": [
    {
     "name": "stdout",
     "output_type": "stream",
     "text": [
      "(1231, 4)\n",
      "Dimension of X (1218, 4)\n",
      "Dimension of y (1218,)\n"
     ]
    },
    {
     "name": "stderr",
     "output_type": "stream",
     "text": [
      "C:\\Users\\Mars\\AppData\\Local\\Temp/ipykernel_5524/1776639318.py:11: FutureWarning: In a future version of pandas all arguments of DataFrame.drop except for the argument 'labels' will be keyword-only\n",
      "  X = np.array(dfreg.drop(['label'], 1))\n"
     ]
    }
   ],
   "source": [
    "# Drop missing value\n",
    "dfreg.fillna(value=-99999, inplace=True)\n",
    "\n",
    "print(dfreg.shape)\n",
    "# We want to separate 1 percent of the data to forecast\n",
    "forecast_out = int(math.ceil(0.01 * len(dfreg)))\n",
    "\n",
    "# Separating the label here, we want to predict the AdjClose\n",
    "forecast_col = 'Adj Close'\n",
    "dfreg['label'] = dfreg[forecast_col].shift(-forecast_out)\n",
    "X = np.array(dfreg.drop(['label'], 1))\n",
    "\n",
    "# Scale the X so that everyone can have the same distribution for linear regression\n",
    "X = preprocessing.scale(X)\n",
    "\n",
    "# Finally We want to find Data Series of late X and early X (train) for model generation and evaluation\n",
    "X_lately = X[-forecast_out:]\n",
    "X = X[:-forecast_out]\n",
    "\n",
    "# Separate label and identify it as y\n",
    "y = np.array(dfreg['label'])\n",
    "y = y[:-forecast_out]\n",
    "\n",
    "print('Dimension of X',X.shape)\n",
    "print('Dimension of y',y.shape)"
   ]
  },
  {
   "cell_type": "code",
   "execution_count": 25,
   "metadata": {},
   "outputs": [],
   "source": [
    "# Separation of training and testing of model by cross validation train test split\n",
    "X_train, X_test, y_train, y_test = train_test_split(X, y, test_size=0.2)"
   ]
  },
  {
   "cell_type": "code",
   "execution_count": 26,
   "metadata": {},
   "outputs": [],
   "source": [
    "from sklearn.linear_model import LinearRegression\n",
    "from sklearn.neighbors import KNeighborsRegressor\n",
    "\n",
    "from sklearn.linear_model import Ridge\n",
    "from sklearn.preprocessing import PolynomialFeatures\n",
    "from sklearn.pipeline import make_pipeline"
   ]
  },
  {
   "cell_type": "code",
   "execution_count": 27,
   "metadata": {},
   "outputs": [
    {
     "data": {
      "text/plain": [
       "KNeighborsRegressor(n_neighbors=2)"
      ]
     },
     "execution_count": 27,
     "metadata": {},
     "output_type": "execute_result"
    }
   ],
   "source": [
    "# Linear regression\n",
    "clfreg = LinearRegression(n_jobs=-1)\n",
    "clfreg.fit(X_train, y_train)\n",
    "\n",
    "# Quadratic Regression 2\n",
    "clfpoly2 = make_pipeline(PolynomialFeatures(2), Ridge())\n",
    "clfpoly2.fit(X_train, y_train)\n",
    "\n",
    "# Quadratic Regression 3\n",
    "clfpoly3 = make_pipeline(PolynomialFeatures(3), Ridge())\n",
    "clfpoly3.fit(X_train, y_train)\n",
    "    \n",
    "# KNN Regression\n",
    "clfknn = KNeighborsRegressor(n_neighbors=2)\n",
    "clfknn.fit(X_train, y_train)"
   ]
  },
  {
   "cell_type": "code",
   "execution_count": 28,
   "metadata": {},
   "outputs": [
    {
     "name": "stdout",
     "output_type": "stream",
     "text": [
      "The linear regression confidence is  0.9758308695574508\n",
      "The quadratic regression 2 confidence is  0.9755177450844624\n",
      "The quadratic regression 3 confidence is  0.9732471156312082\n",
      "The knn regression confidence is  0.9550378175514239\n"
     ]
    }
   ],
   "source": [
    "# evaluating models\n",
    "confidencereg = clfreg.score(X_test, y_test)\n",
    "confidencepoly2 = clfpoly2.score(X_test,y_test)\n",
    "confidencepoly3 = clfpoly3.score(X_test,y_test)\n",
    "confidenceknn = clfknn.score(X_test, y_test)\n",
    "\n",
    "print(\"The linear regression confidence is \",confidencereg)\n",
    "print(\"The quadratic regression 2 confidence is \",confidencepoly2)\n",
    "print(\"The quadratic regression 3 confidence is \",confidencepoly3)\n",
    "print(\"The knn regression confidence is \",confidenceknn)"
   ]
  },
  {
   "cell_type": "code",
   "execution_count": 33,
   "metadata": {},
   "outputs": [
    {
     "name": "stdout",
     "output_type": "stream",
     "text": [
      "linear regression: \n",
      " [53028.84915792 52936.34625129 53252.92312221 53142.04953054\n",
      " 53766.62900901 54158.561591   54454.15299957 54378.70500287\n",
      " 53865.88500594 53504.42373067 53416.71286841 53755.56890069\n",
      " 54513.63642654] 0.9758308695574508 13 \n",
      "\n",
      "quadratic regression 2: \n",
      " [53080.45434174 52961.81888364 53283.73261777 53186.73193678\n",
      " 53757.59799663 54197.74756852 54488.95375535 54410.10108691\n",
      " 53900.32969269 53544.23177732 53459.47614475 53797.28092435\n",
      " 54523.54229865] 0.9755177450844624 13 \n",
      "\n",
      "quadratic regression 3: \n",
      " [53842.03196505 53218.93689074 54106.94364792 53734.06869916\n",
      " 54735.4422216  54949.06021882 55190.3605275  55093.18964997\n",
      " 54724.32523923 54509.31058744 54044.56093652 54536.04139168\n",
      " 55363.86937613] 0.9732471156312082 13 \n",
      "\n",
      "knn regression: \n",
      " [53044.3046875  52781.21484375 53008.46875    52149.2265625\n",
      " 56704.1640625  52878.16015625 54668.41015625 54715.57617188\n",
      " 53148.07421875 51699.0859375  51712.13085938 55201.95507812\n",
      " 54674.1640625 ] 0.9550378175514239 13 \n",
      "\n"
     ]
    }
   ],
   "source": [
    "# Printing the forecast\n",
    "forecast_set = clfreg.predict(X_lately)\n",
    "dfreg['Forecast'] = np.nan\n",
    "print('linear regression: \\n', forecast_set, confidencereg, forecast_out, '\\n')\n",
    "\n",
    "forecast_set = clfpoly2.predict(X_lately)\n",
    "dfreg['Forecast'] = np.nan\n",
    "print('quadratic regression 2: \\n', forecast_set, confidencepoly2, forecast_out, '\\n')\n",
    "\n",
    "forecast_set = clfpoly3.predict(X_lately)\n",
    "dfreg['Forecast'] = np.nan\n",
    "print('quadratic regression 3: \\n', forecast_set, confidencepoly3, forecast_out, '\\n')\n",
    "\n",
    "forecast_set = clfknn.predict(X_lately)\n",
    "dfreg['Forecast'] = np.nan\n",
    "print('knn regression: \\n', forecast_set, confidenceknn, forecast_out, '\\n')"
   ]
  },
  {
   "cell_type": "code",
   "execution_count": 34,
   "metadata": {},
   "outputs": [],
   "source": [
    "import datetime"
   ]
  },
  {
   "cell_type": "code",
   "execution_count": 35,
   "metadata": {},
   "outputs": [],
   "source": [
    "last_date = dfreg.iloc[-1].name\n",
    "last_unix = last_date\n",
    "next_unix = last_unix + datetime.timedelta(days=1)\n",
    "\n",
    "for i in forecast_set:\n",
    "    next_date = next_unix\n",
    "    next_unix += datetime.timedelta(days=1)\n",
    "    dfreg.loc[next_date] = [np.nan for _ in range(len(dfreg.columns)-1)]+[i]"
   ]
  },
  {
   "cell_type": "code",
   "execution_count": 37,
   "metadata": {},
   "outputs": [
    {
     "data": {
      "image/png": "[encoded data removed]",
      "text/plain": [
       "<Figure size 1080x360 with 1 Axes>"
      ]
     },
     "metadata": {
      "needs_background": "light"
     },
     "output_type": "display_data"
    }
   ],
   "source": [
    "plt.figure(figsize=(15,5))\n",
    "dfreg['Adj Close'].tail(500).plot()\n",
    "dfreg['Forecast'].tail(500).plot()\n",
    "plt.legend(loc=4)\n",
    "plt.xlabel('Date')\n",
    "plt.ylabel('Price')\n",
    "plt.grid(True)\n",
    "plt.show()"
   ]
  },
  {
   "cell_type": "code",
   "execution_count": null,
   "metadata": {},
   "outputs": [],
   "source": []
  }
 ],
 "metadata": {
  "kernelspec": {
   "display_name": "Python 3.9.0 64-bit",
   "language": "python",
   "name": "python3"
  },
  "language_info": {
   "codemirror_mode": {
    "name": "ipython",
    "version": 3
   },
   "file_extension": ".py",
   "mimetype": "text/x-python",
   "name": "python",
   "nbconvert_exporter": "python",
   "pygments_lexer": "ipython3",
   "version": "3.9.0"
  },
  "orig_nbformat": 4,
  "vscode": {
   "interpreter": {
    "hash": "8304880a3e767ad58ed1695f5214ef77ebbb8fdf4513a7eb4c0fbb1ff3deb86b"
   }
  }
 },
 "nbformat": 4,
 "nbformat_minor": 2
}
